{
 "cells": [
  {
   "cell_type": "code",
   "execution_count": 1,
   "metadata": {},
   "outputs": [],
   "source": [
    "#1 Specify the name of the input file csv in quotes \"\". Be sure that have you column named 'Course_id' and 'Username\" in the CSV. \n",
    "#Put the name of the folder and \"\\\" before the name of file like \"Folder\\input.csv\"\n",
    "#This assumes they are in the same working directory. you can use another working directory in the same way. \"otherwd\\Folder\\input.csv\"\n",
    "\n",
    "#Example: csv_to_load = \"Input_Files\\Test1.csv\"\n",
    "\n",
    "csv_to_load = \"Input_Files\\Input01.csv\"\n",
    "\n",
    "\n",
    "#2 Specify the name of the output file, this is a log of results. \n",
    "#Example output_csv = \"Output_Files\\Output1.csv\"\n",
    "\n",
    "output_csv = \"Output_Files\\Output1.csv\"\n",
    "\n"
   ]
  },
  {
   "cell_type": "code",
   "execution_count": 2,
   "metadata": {},
   "outputs": [
    {
     "name": "stdout",
     "output_type": "stream",
     "text": [
      "     Index                        Username  \\\n",
      "0        0         a.jones@serbusgroup.com   \n",
      "1        1             aa.savin@jet.msk.su   \n",
      "2        2            aaylott@qolcom.co.uk   \n",
      "3        3           abdelrhman@foresec.co   \n",
      "4        4                abeauchy@gpic.es   \n",
      "...    ...                             ...   \n",
      "4994  4994                 ebarrera@sia.es   \n",
      "4995  4995  edoardo.morello@ennovagroup.it   \n",
      "4996  4996       edoardo.scarsini@cys4.com   \n",
      "4997  4997     eduardob@m-securitytech.com   \n",
      "4998  4998                 efranco@cwsi.ie   \n",
      "\n",
      "                                 Course_ID     HTTP Response  \n",
      "0     0005fa3d-e0db-4fb1-be61-b054bc78b930  <Response [200]>  \n",
      "1     0005fa3d-e0db-4fb1-be61-b054bc78b930  <Response [200]>  \n",
      "2     0005fa3d-e0db-4fb1-be61-b054bc78b930  <Response [200]>  \n",
      "3     0005fa3d-e0db-4fb1-be61-b054bc78b930  <Response [200]>  \n",
      "4     0005fa3d-e0db-4fb1-be61-b054bc78b930  <Response [200]>  \n",
      "...                                    ...               ...  \n",
      "4994  1819ec31-3b5f-45bd-aaa4-ca08d864e455  <Response [200]>  \n",
      "4995  1819ec31-3b5f-45bd-aaa4-ca08d864e455  <Response [200]>  \n",
      "4996  1819ec31-3b5f-45bd-aaa4-ca08d864e455  <Response [200]>  \n",
      "4997  1819ec31-3b5f-45bd-aaa4-ca08d864e455  <Response [200]>  \n",
      "4998  1819ec31-3b5f-45bd-aaa4-ca08d864e455  <Response [200]>  \n",
      "\n",
      "[4999 rows x 4 columns]\n"
     ]
    }
   ],
   "source": [
    "import requests\n",
    "import json\n",
    "import csv\n",
    "import pandas as pd\n",
    "\n",
    "\n",
    "\n",
    "# 1. Create a CSV with the course ID# and email address of user who completed the course. Important: Add the name of CSV on the first line of code\n",
    "import_csv = pd.read_csv(csv_to_load)\n",
    "#2 Create a list of the Course_Id column\n",
    "CourseID_list = import_csv['Course_id'].tolist()\n",
    "#3 Create a list of the Username Column\n",
    "Username_list = import_csv['Username'].tolist()\n",
    "\n",
    "\n",
    "#4 Create the Empty Lists, these are the columns in output file. Each list will be populated with the for loop below as it iterates through the csv\n",
    "index_list = []\n",
    "completion_list = []\n",
    "username_list = []\n",
    "post_list = []\n",
    "index = 0\n",
    "\n",
    "#5 Loop through the Course_ID_list. The loop creates JSON from the lists above and the posts it through the API. \n",
    "for row in CourseID_list:\n",
    "    endpoint = \"https://advantagelearning.ivanti.com/incoming/v2/courseExternalActivity\"\n",
    "    headers = {\"Authorization\": \"Bearer ENTER YOUR API KEY HERE\", \"Content-Type\": \"application/json\"}\n",
    "    data = json.dumps({\"courseId\": CourseID_list[index], \"userEmail\": Username_list[index]})\n",
    "    post1 = requests.post(endpoint, headers=headers, data=data)\n",
    "    index_list.append(str(index))\n",
    "    completion_list.append(str(CourseID_list[index]))\n",
    "    username_list.append(Username_list[index])\n",
    "    post_list.append(str(post1))\n",
    "    index +=1\n",
    "\n",
    "#6 Write the output to csv\n",
    "dict = {\"Index\":index_list, 'Username':username_list, \"Course_ID\": completion_list, \"HTTP Response\": post_list}\n",
    "Output_df = pd.DataFrame(dict)        \n",
    "Output_df.to_csv(output_csv)                          \n",
    "print(Output_df)                          \n",
    "    \n",
    "\n"
   ]
  },
  {
   "cell_type": "code",
   "execution_count": null,
   "metadata": {},
   "outputs": [],
   "source": []
  }
 ],
 "metadata": {
  "kernelspec": {
   "display_name": "Python 3",
   "language": "python",
   "name": "python3"
  },
  "language_info": {
   "codemirror_mode": {
    "name": "ipython",
    "version": 3
   },
   "file_extension": ".py",
   "mimetype": "text/x-python",
   "name": "python",
   "nbconvert_exporter": "python",
   "pygments_lexer": "ipython3",
   "version": "3.7.4"
  }
 },
 "nbformat": 4,
 "nbformat_minor": 4
}
